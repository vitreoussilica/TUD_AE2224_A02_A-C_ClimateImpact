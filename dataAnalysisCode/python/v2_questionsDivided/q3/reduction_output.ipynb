{
 "cells": [
  {
   "cell_type": "code",
   "execution_count": 1,
   "metadata": {},
   "outputs": [],
   "source": [
    "import numpy as np\n",
    "import pandas as pd\n",
    "import os"
   ]
  },
  {
   "cell_type": "code",
   "execution_count": 46,
   "metadata": {},
   "outputs": [
    {
     "name": "stderr",
     "output_type": "stream",
     "text": [
      "C:\\Users\\macie\\AppData\\Local\\Temp\\ipykernel_12080\\3229967942.py:19: FutureWarning: The frame.append method is deprecated and will be removed from pandas in a future version. Use pandas.concat instead.\n",
      "  df_total = df_total.append(df_1)\n",
      "C:\\Users\\macie\\AppData\\Local\\Temp\\ipykernel_12080\\3229967942.py:20: FutureWarning: The frame.append method is deprecated and will be removed from pandas in a future version. Use pandas.concat instead.\n",
      "  df_total = df_total.append(df_7)\n"
     ]
    }
   ],
   "source": [
    "df_1 = pd.read_csv(filepath_or_buffer='C:/Users/macie/Desktop/project_output/ATRsum-2018-07-01.csv')\n",
    "df_2 = pd.read_csv(filepath_or_buffer='C:/Users/macie/Desktop/project_output/ATRsum-2018-07-02.csv')\n",
    "df_3 = pd.read_csv(filepath_or_buffer='C:/Users/macie/Desktop/project_output/ATRsum-2018-07-03.csv')\n",
    "df_4 = pd.read_csv(filepath_or_buffer='C:/Users/macie/Desktop/project_output/ATRsum-2018-07-04.csv')\n",
    "df_5 = pd.read_csv(filepath_or_buffer='C:/Users/macie/Desktop/project_output/ATRsum-2018-07-05.csv')\n",
    "df_6 = pd.read_csv(filepath_or_buffer='C:/Users/macie/Desktop/project_output/ATRsum-2018-07-06.csv')\n",
    "df_7 = pd.read_csv(filepath_or_buffer='C:/Users/macie/Desktop/project_output/ATRsum-2018-07-07.csv')\n",
    "\n",
    "df_total = pd.DataFrame()\n",
    "\n",
    "df_1 = df_1[df_1['ATRsum'] != 0.0].drop(axis=1, columns=['level_0', 'index'])\n",
    "df_2 = df_2[df_2['ATRsum'] != 0.0]\n",
    "df_3 = df_3[df_3['ATRsum'] != 0.0]\n",
    "df_4 = df_4[df_4['ATRsum'] != 0.0]\n",
    "df_5 = df_5[df_5['ATRsum'] != 0.0]\n",
    "df_6 = df_6[df_6['ATRsum'] != 0.0]\n",
    "df_7 = df_7[df_7['ATRsum'] != 0.0]\n",
    "\n",
    "df_total = df_total.append(df_1)\n",
    "df_total = df_total.append(df_7)\n",
    "\n",
    "df_total.reset_index(drop=True, inplace=True)\n",
    "\n",
    "df_total.to_csv('C:/Users/macie/Desktop/project_output/ATRsum-July-1-week.csv', index=False)"
   ]
  }
 ],
 "metadata": {
  "kernelspec": {
   "display_name": "Python 3",
   "language": "python",
   "name": "python3"
  },
  "language_info": {
   "codemirror_mode": {
    "name": "ipython",
    "version": 3
   },
   "file_extension": ".py",
   "mimetype": "text/x-python",
   "name": "python",
   "nbconvert_exporter": "python",
   "pygments_lexer": "ipython3",
   "version": "3.9.16"
  },
  "orig_nbformat": 4
 },
 "nbformat": 4,
 "nbformat_minor": 2
}
