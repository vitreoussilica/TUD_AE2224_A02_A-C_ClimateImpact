{
 "cells": [
  {
   "cell_type": "code",
   "execution_count": 109,
   "metadata": {},
   "outputs": [],
   "source": [
    "import pandas as pd\n",
    "import numpy as np\n",
    "import datetime"
   ]
  },
  {
   "cell_type": "code",
   "execution_count": 111,
   "metadata": {},
   "outputs": [
    {
     "name": "stdout",
     "output_type": "stream",
     "text": [
      "         Date  Correlation_Factor\n",
      "0  2018-07-01                0.48\n",
      "1  2018-07-02                0.64\n",
      "2  2018-07-03                0.60\n",
      "3  2018-07-04                0.58\n",
      "4  2018-07-05                0.56\n",
      "5  2018-07-06                0.56\n",
      "6  2018-07-07                0.50\n",
      "Average = 0.56\n"
     ]
    },
    {
     "name": "stderr",
     "output_type": "stream",
     "text": [
      "C:\\Users\\macie\\AppData\\Local\\Temp\\ipykernel_2632\\1989905475.py:47: FutureWarning: The frame.append method is deprecated and will be removed from pandas in a future version. Use pandas.concat instead.\n",
      "  total_values = total_values.append({'Date': '2018-07-0' + str(i), 'Correlation_Factor': total}, ignore_index=True)\n",
      "C:\\Users\\macie\\AppData\\Local\\Temp\\ipykernel_2632\\1989905475.py:47: FutureWarning: The frame.append method is deprecated and will be removed from pandas in a future version. Use pandas.concat instead.\n",
      "  total_values = total_values.append({'Date': '2018-07-0' + str(i), 'Correlation_Factor': total}, ignore_index=True)\n",
      "C:\\Users\\macie\\AppData\\Local\\Temp\\ipykernel_2632\\1989905475.py:47: FutureWarning: The frame.append method is deprecated and will be removed from pandas in a future version. Use pandas.concat instead.\n",
      "  total_values = total_values.append({'Date': '2018-07-0' + str(i), 'Correlation_Factor': total}, ignore_index=True)\n",
      "C:\\Users\\macie\\AppData\\Local\\Temp\\ipykernel_2632\\1989905475.py:47: FutureWarning: The frame.append method is deprecated and will be removed from pandas in a future version. Use pandas.concat instead.\n",
      "  total_values = total_values.append({'Date': '2018-07-0' + str(i), 'Correlation_Factor': total}, ignore_index=True)\n",
      "C:\\Users\\macie\\AppData\\Local\\Temp\\ipykernel_2632\\1989905475.py:47: FutureWarning: The frame.append method is deprecated and will be removed from pandas in a future version. Use pandas.concat instead.\n",
      "  total_values = total_values.append({'Date': '2018-07-0' + str(i), 'Correlation_Factor': total}, ignore_index=True)\n",
      "C:\\Users\\macie\\AppData\\Local\\Temp\\ipykernel_2632\\1989905475.py:47: FutureWarning: The frame.append method is deprecated and will be removed from pandas in a future version. Use pandas.concat instead.\n",
      "  total_values = total_values.append({'Date': '2018-07-0' + str(i), 'Correlation_Factor': total}, ignore_index=True)\n",
      "C:\\Users\\macie\\AppData\\Local\\Temp\\ipykernel_2632\\1989905475.py:47: FutureWarning: The frame.append method is deprecated and will be removed from pandas in a future version. Use pandas.concat instead.\n",
      "  total_values = total_values.append({'Date': '2018-07-0' + str(i), 'Correlation_Factor': total}, ignore_index=True)\n"
     ]
    }
   ],
   "source": [
    "columns = ['month', 'day', 'time', 'i_cost', 'i_1p', 'i_climate', 'abs_comp', 'abs_opt', 'rel_comp', 'rel_opt']\n",
    "gerben = pd.read_csv('gerben_output/aa_high_potential_list_sorted_rel_climate.txt', header=None, names=columns)\n",
    "atr_array =pd.read_csv('atr_output/ATRsum-July-1-week.csv')\n",
    "\n",
    "date_list = []\n",
    "\n",
    "#converts the dates into a normal format\n",
    "for i in range(len(gerben)):\n",
    "    date_list.append(datetime.date(2018, gerben['month'].values[i], 1 + gerben['day'].values[i]))\n",
    "#converts from datetime.date to string\n",
    "date_strings = [date.strftime(\"%Y-%m-%d\") for date in date_list]\n",
    "#drops the useless month/day\n",
    "gerben_no_date = gerben.drop(axis=1, columns=['month', 'day'])\n",
    "#inserts better string date\n",
    "gerben_no_date.insert(loc=0, column='Date', value=date_strings)\n",
    "#yeets out the crap we won't use\n",
    "gerben_new = gerben_no_date.drop(axis=1, columns=['abs_comp', 'abs_opt', 'rel_comp'])\n",
    "gerben_midnight = gerben_new[gerben_new['time'] != 1]\n",
    "#funny dict goes brrrrrr\n",
    "gerben_day = {}\n",
    "atr_day = {}\n",
    "#fill up the dicts\n",
    "for i in range(1,8):\n",
    "    gerben_day['gerben_day_{0}'.format(i)] = gerben_midnight[gerben_midnight['Date'] == '2018-07-0' + str(i)]\n",
    "    atr_day['atr_day_{0}'.format(i)] = atr_array[atr_array['Date'] == '2018-07-0' + str(i)]\n",
    "#sorts by values descending so it matches the gerben output in terms of correlation, i.e. the lower the rel_opt the higher ATRsum\n",
    "for i in range(1,8):\n",
    "    atr_day_temp = atr_day.get('atr_day_1')\n",
    "    atr_day_temp = atr_day_temp.sort_values(by='ATRsum', ascending=False)\n",
    "    atr_day['atr_day_{0}'.format(i)] = atr_day_temp\n",
    "\n",
    "#calculate the amount of flights that lie in the same halve\n",
    "total_values = pd.DataFrame(columns=['Date', 'Correlation_Factor'])\n",
    "\n",
    "for i in range(1,8):\n",
    "    midpoint = len(atr_day.get('atr_day_' + str(i))) // 2\n",
    "\n",
    "    index_atr_1st_half = atr_day.get('atr_day_' + str(i))['Flight_index'][:midpoint]\n",
    "    index_atr_2nd_half = atr_day.get('atr_day_' + str(i))['Flight_index'][midpoint:]\n",
    "\n",
    "    index_gerben_1st_half = gerben_day.get('gerben_day_' + str(i))['i_climate'][:midpoint]\n",
    "    index_gerben_2nd_half = gerben_day.get('gerben_day_' + str(i))['i_climate'][midpoint:]\n",
    "\n",
    "    intersection_1st = set(index_atr_1st_half).intersection(set(index_gerben_1st_half))\n",
    "    intersection_2nd = set(index_atr_2nd_half).intersection(set(index_gerben_2nd_half))\n",
    "    total = float(len(intersection_1st) + len(intersection_2nd))/100\n",
    "    total_values = total_values.append({'Date': '2018-07-0' + str(i), 'Correlation_Factor': total}, ignore_index=True)\n",
    "\n",
    "#calculate the average over the entire week\n",
    "average = total_values['Correlation_Factor'].mean()\n",
    "\n",
    "print(total_values)\n",
    "print('Average =', average)\n"
   ]
  }
 ],
 "metadata": {
  "kernelspec": {
   "display_name": "Python 3",
   "language": "python",
   "name": "python3"
  },
  "language_info": {
   "codemirror_mode": {
    "name": "ipython",
    "version": 3
   },
   "file_extension": ".py",
   "mimetype": "text/x-python",
   "name": "python",
   "nbconvert_exporter": "python",
   "pygments_lexer": "ipython3",
   "version": "3.9.16"
  },
  "orig_nbformat": 4
 },
 "nbformat": 4,
 "nbformat_minor": 2
}
