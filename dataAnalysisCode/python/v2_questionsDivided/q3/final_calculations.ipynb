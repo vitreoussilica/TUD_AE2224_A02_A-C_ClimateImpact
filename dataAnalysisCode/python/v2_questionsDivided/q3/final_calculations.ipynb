{
 "cells": [
  {
   "cell_type": "code",
   "execution_count": null,
   "metadata": {},
   "outputs": [],
   "source": [
    "import numpy as np\n",
    "import pandas as pd\n",
    "import xarray as xr\n",
    "from matplotlib import pyplot as plt\n",
    "import cartopy.crs as ccrs\n",
    "import math as mt"
   ]
  },
  {
   "cell_type": "code",
   "execution_count": null,
   "metadata": {},
   "outputs": [],
   "source": [
    "M = 0.8 #change later\n",
    "reference_fuel_consumption = 0.7296 #who knows\n",
    "reference_nox = 19.1835 #IDGAF\n",
    "number_of_engines = 2 \n",
    "temp_sea_level = 288.15\n",
    "pres_sea_level = 101325\n",
    "gamma = 1.4\n",
    "R = 287.05\n"
   ]
  },
  {
   "cell_type": "code",
   "execution_count": null,
   "metadata": {},
   "outputs": [],
   "source": [
    "#need to streamline it, combine datasets into one\n",
    "\n",
    "echam = \n",
    "accf = \n",
    "contrail ="
   ]
  },
  {
   "cell_type": "code",
   "execution_count": null,
   "metadata": {},
   "outputs": [],
   "source": [
    "#change the datasets so it correspomds with above code\n",
    "\n",
    "velocity = M*np.sqrt(gamma*R*echam['tm1'])\n",
    "delta = echam['tm1']*(1+0.2*M**2)**3.5 / temp_sea_level\n",
    "theta = echam['press']*(1+0.2*M**2)**3.5 / pres_sea_level\n",
    "f_a_i = reference_fuel_consumption*delta*np.sqrt(theta)\n",
    "f_cr = f_a_i*number_of_engines\n",
    "H_c = np.exp(-19*(echam['qm1']-0.00634))\n",
    "EINO_x = reference_nox*delta**0.4*theta**0.3*H_c\n",
    "co2_atr20_perkm = accf['atr20_co2']/velocity*f_cr\n",
    "h2o_atr20_perkm = accf['atr20_h2o']/velocity*f_cr\n",
    "o3_atr20_perkm = accf['atr20_o3']/velocity*f_cr*EINO_x*10**(-3)\n",
    "ch4_atr20_perkm = accf['atr20_ch4']/velocity*f_cr*EINO_x*10**(-3)\n",
    "contr_atr20_perkm = accf['atr20_contrail']*contrail['potcov']\n",
    "\n"
   ]
  }
 ],
 "metadata": {
  "kernelspec": {
   "display_name": "A02_project",
   "language": "python",
   "name": "python3"
  },
  "language_info": {
   "name": "python",
   "version": "3.9.16"
  },
  "orig_nbformat": 4
 },
 "nbformat": 4,
 "nbformat_minor": 2
}
