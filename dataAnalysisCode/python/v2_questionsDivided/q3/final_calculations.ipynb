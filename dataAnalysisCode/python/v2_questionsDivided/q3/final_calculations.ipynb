{
 "cells": [
  {
   "cell_type": "code",
   "execution_count": 14,
   "metadata": {},
   "outputs": [],
   "source": [
    "import numpy as np\n",
    "import pandas as pd\n",
    "import xarray as xr\n",
    "import os\n",
    "from matplotlib import pyplot as plt\n",
    "import cartopy.crs as ccrs\n",
    "import math as mt\n",
    "import dask"
   ]
  },
  {
   "cell_type": "code",
   "execution_count": 2,
   "metadata": {},
   "outputs": [],
   "source": [
    "M = 0.8 #change later\n",
    "reference_fuel_consumption = 0.7296 #who knows\n",
    "reference_nox = 19.1835 #IDGAF\n",
    "number_of_engines = 2 \n",
    "temp_sea_level = 288.15 #kelvins\n",
    "pres_sea_level = 101325 #pascals\n",
    "gamma = 1.4\n",
    "R = 287.05\n"
   ]
  },
  {
   "cell_type": "code",
   "execution_count": 17,
   "metadata": {},
   "outputs": [],
   "source": [
    "#merge echam\n",
    "directory = os.fsencode(\"C:/Users/macie/OneDrive/Desktop/Project_A02/Project_data/DT00/AT20_optimal\")\n",
    "dir = \"C:/Users/macie/OneDrive/Desktop/Project_A02/Project_data/DT00/AT20_optimal\"\n",
    "echam_files = []\n",
    "for file in os.listdir(directory):\n",
    "    filename = os.fsdecode(file)\n",
    "    if filename.endswith(\"ECHAM5.nc\"):\n",
    "        echam_files.append(os.path.join(dir, filename))\n",
    "    else:\n",
    "        continue\n",
    "if echam_files:\n",
    "    merged_echam = xr.open_mfdataset(echam_files, combine='nested', concat_dim='time')\n",
    "    \n",
    "#merge accf\n",
    "directory = os.fsencode(\"C:/Users/macie/OneDrive/Desktop/Project_A02/Project_data/DT00/AT20_optimal\")\n",
    "dir = \"C:/Users/macie/OneDrive/Desktop/Project_A02/Project_data/DT00/AT20_optimal\"\n",
    "accf_files = []\n",
    "for file in os.listdir(directory):\n",
    "    filename = os.fsdecode(file)\n",
    "    if filename.endswith(\"accf_gp.nc\"):\n",
    "        accf_files.append(os.path.join(dir, filename))\n",
    "    else:\n",
    "        continue\n",
    "if accf_files:\n",
    "    merged_accf = xr.open_mfdataset(accf_files, combine='nested', concat_dim='time')\n",
    "\n",
    "#merge contrail\n",
    "directory = os.fsencode(\"C:/Users/macie/OneDrive/Desktop/Project_A02/Project_data/DT00/AT20_optimal\")\n",
    "dir = \"C:/Users/macie/OneDrive/Desktop/Project_A02/Project_data/DT00/AT20_optimal\"\n",
    "contrail_files = []\n",
    "for file in os.listdir(directory):\n",
    "    filename = os.fsdecode(file)\n",
    "    if filename.endswith(\"contrail_gp.nc\"):\n",
    "        contrail_files.append(os.path.join(dir, filename))\n",
    "    else:\n",
    "        continue\n",
    "if contrail_files:\n",
    "    merged_contrail = xr.open_mfdataset(contrail_files, combine='nested', concat_dim='time')"
   ]
  },
  {
   "cell_type": "code",
   "execution_count": null,
   "metadata": {},
   "outputs": [],
   "source": [
    "#change the datasets so it correspomds with above code\n",
    "\n",
    "#aircrafts velocity based on its mach number\n",
    "velocity = M*np.sqrt(gamma*R*merged_echam['tm1'])\n",
    "#correction coefficients for fuel consumption\n",
    "delta = merged_echam['tm1']*(1+0.2*M**2)**3.5 / temp_sea_level\n",
    "theta = merged_echam['press']*(1+0.2*M**2)**3.5 / pres_sea_level\n",
    "#actual fuel consumption per engine\n",
    "f_a_i = reference_fuel_consumption*delta*np.sqrt(theta)\n",
    "#total fuel consumption\n",
    "f_cr = f_a_i*number_of_engines\n",
    "#humidity correction coefficient\n",
    "H_c = np.exp(-19*(merged_echam['qm1']-0.00634))\n",
    "#nox emission corrected for cruise conditions\n",
    "EINO_x = reference_nox*delta**0.4*theta**0.3*H_c\n",
    "#F-ATR20 for each emission in kelvins per kilometer\n",
    "co2_atr20_perkm = merged_accf['atr20_co2']/velocity*f_cr\n",
    "h2o_atr20_perkm = merged_accf['atr20_h2o']/velocity*f_cr\n",
    "o3_atr20_perkm = merged_accf['atr20_o3']/velocity*f_cr*EINO_x*10**(-3)\n",
    "ch4_atr20_perkm = merged_accf['atr20_ch4']/velocity*f_cr*EINO_x*10**(-3)\n",
    "contr_atr20_perkm = merged_accf['atr20_contrail']*merged_contrail['potcov']\n",
    "\n"
   ]
  }
 ],
 "metadata": {
  "kernelspec": {
   "display_name": "A02_project",
   "language": "python",
   "name": "python3"
  },
  "language_info": {
   "codemirror_mode": {
    "name": "ipython",
    "version": 3
   },
   "file_extension": ".py",
   "mimetype": "text/x-python",
   "name": "python",
   "nbconvert_exporter": "python",
   "pygments_lexer": "ipython3",
   "version": "3.9.16"
  },
  "orig_nbformat": 4
 },
 "nbformat": 4,
 "nbformat_minor": 2
}
